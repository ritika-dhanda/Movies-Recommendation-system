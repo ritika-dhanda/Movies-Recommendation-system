{
  "nbformat": 4,
  "nbformat_minor": 0,
  "metadata": {
    "colab": {
      "provenance": [],
      "authorship_tag": "ABX9TyPr8pUACxJZ7+7aWwe+2uEO",
      "include_colab_link": true
    },
    "kernelspec": {
      "name": "python3",
      "display_name": "Python 3"
    },
    "language_info": {
      "name": "python"
    }
  },
  "cells": [
    {
      "cell_type": "markdown",
      "metadata": {
        "id": "view-in-github",
        "colab_type": "text"
      },
      "source": [
        "<a href=\"https://colab.research.google.com/github/ritika-dhanda/Movies-Recommendation-system/blob/main/Movie_Recommendation_System.ipynb\" target=\"_parent\"><img src=\"https://colab.research.google.com/assets/colab-badge.svg\" alt=\"Open In Colab\"/></a>"
      ]
    },
    {
      "cell_type": "code",
      "execution_count": 1,
      "metadata": {
        "colab": {
          "base_uri": "https://localhost:8080/"
        },
        "id": "WFY7GIVnGWKk",
        "outputId": "b5d89db6-61d6-4cb3-97d4-051d7cb257ea"
      },
      "outputs": [
        {
          "output_type": "stream",
          "name": "stdout",
          "text": [
            "Enter a movie you like: Toy Story\n",
            "\n",
            "Movies similar to 'Toy Story':\n",
            "- Toy Story 2 (1999)\n",
            "- Jurassic Park (1993)\n",
            "- Independence Day (a.k.a. ID4) (1996)\n",
            "- Star Wars: Episode IV - A New Hope (1977)\n",
            "- Forrest Gump (1994)\n",
            "- Lion King, The (1994)\n",
            "- Star Wars: Episode VI - Return of the Jedi (1983)\n",
            "- Mission: Impossible (1996)\n",
            "- Groundhog Day (1993)\n",
            "- Back to the Future (1985)\n"
          ]
        }
      ],
      "source": [
        "import numpy as np\n",
        "import pandas as pd\n",
        "from sklearn.neighbors import NearestNeighbors\n",
        "from scipy.sparse import csr_matrix\n",
        "\n",
        "# Load the datasets\n",
        "movies = pd.read_csv(\"https://s3-us-west-2.amazonaws.com/recommender-tutorial/movies.csv\")\n",
        "ratings = pd.read_csv(\"https://s3-us-west-2.amazonaws.com/recommender-tutorial/ratings.csv\")\n",
        "\n",
        "# Create user-item matrix\n",
        "def create_user_item_matrix(df):\n",
        "    N = df['userId'].nunique()\n",
        "    M = df['movieId'].nunique()\n",
        "\n",
        "    user_mapper = dict(zip(np.unique(df[\"userId\"]), list(range(N))))\n",
        "    movie_mapper = dict(zip(np.unique(df[\"movieId\"]), list(range(M))))\n",
        "\n",
        "    user_inv_mapper = dict(zip(list(range(N)), np.unique(df[\"userId\"])))\n",
        "    movie_inv_mapper = dict(zip(list(range(M)), np.unique(df[\"movieId\"])))\n",
        "\n",
        "    user_index = [user_mapper[i] for i in df['userId']]\n",
        "    movie_index = [movie_mapper[i] for i in df['movieId']]\n",
        "\n",
        "    X = csr_matrix((df[\"rating\"], (movie_index, user_index)), shape=(M, N))\n",
        "\n",
        "    return X, user_mapper, movie_mapper, user_inv_mapper, movie_inv_mapper\n",
        "\n",
        "X, user_mapper, movie_mapper, user_inv_mapper, movie_inv_mapper = create_user_item_matrix(ratings)\n",
        "\n",
        "# Find similar movies using KNN\n",
        "def find_similar_movies(movie_id, X, movie_mapper, movie_inv_mapper, k=10):\n",
        "    movie_ind = movie_mapper[movie_id]\n",
        "    movie_vec = X[movie_ind]\n",
        "    kNN = NearestNeighbors(n_neighbors=k+1, algorithm=\"auto\", metric='cosine')\n",
        "    kNN.fit(X)\n",
        "    movie_vec = movie_vec.reshape(1, -1)\n",
        "    neighbour = kNN.kneighbors(movie_vec, return_distance=False)\n",
        "    neighbour_ids = [movie_inv_mapper[n] for n in neighbour.flatten()[1:]]\n",
        "    return neighbour_ids\n",
        "\n",
        "# Recommend similar movies based on user input\n",
        "def recommend_movies_based_on_input(movie_title, X, movies, movie_mapper, movie_inv_mapper, k=10):\n",
        "    # Find the movie ID based on the input title\n",
        "    movie_id = movies[movies['title'].str.contains(movie_title, case=False, na=False)]\n",
        "\n",
        "    if movie_id.empty:\n",
        "        print(\"Movie not found. Please try another title.\")\n",
        "        return\n",
        "\n",
        "    movie_id = movie_id.iloc[0]['movieId']  # Get the first matching movie's ID\n",
        "    similar_movie_ids = find_similar_movies(movie_id, X, movie_mapper, movie_inv_mapper, k)\n",
        "\n",
        "    print(f\"\\nMovies similar to '{movie_title}':\")\n",
        "    for movie_id in similar_movie_ids:\n",
        "        movie_title = movies[movies['movieId'] == movie_id]['title'].values[0]\n",
        "        print(f\"- {movie_title}\")\n",
        "\n",
        "# Take user input for the movie title\n",
        "user_input = input(\"Enter a movie you like: \")\n",
        "recommend_movies_based_on_input(user_input, X, movies, movie_mapper, movie_inv_mapper, k=10)\n"
      ]
    }
  ]
}